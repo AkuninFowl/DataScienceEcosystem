{
 "cells": [
  {
   "cell_type": "markdown",
   "id": "444f1c9b-0c85-459e-81bc-d1593b1246a4",
   "metadata": {},
   "source": [
    "# Data Science Tools and Ecosystem"
   ]
  },
  {
   "cell_type": "markdown",
   "id": "48431474-34aa-4309-bc47-f6aa330eca3f",
   "metadata": {},
   "source": [
    "In this notebook, Data Science Tools and Ecosystem are summarized."
   ]
  },
  {
   "cell_type": "markdown",
   "id": "1bf4ebaf-ae49-4aea-90c9-5456f6f7aff0",
   "metadata": {},
   "source": [
    "**Objectives:**\n",
    "* Popular languages of Data Science\n",
    "* Commonly used libraries in Data Science\n",
    "* Data Science Tools"
   ]
  },
  {
   "cell_type": "markdown",
   "id": "705879cf-03fd-49c1-8639-3713d4e30525",
   "metadata": {},
   "source": [
    "Some of the popular languages that Data Scientists use are:\n",
    "1. Python\n",
    "2. SQL\n",
    "3. R\n",
    "4. Julia\n",
    "5. JavaScript\n"
   ]
  },
  {
   "cell_type": "markdown",
   "id": "f1ca8c1a-c7ff-492e-bb17-6e5fa3acafa7",
   "metadata": {},
   "source": [
    "Some of the commonly used libraries used by Data Scientists include:\n",
    "1. NumPy\n",
    "2. SciPy\n",
    "3. TensorFlow\n",
    "4. Pandas"
   ]
  },
  {
   "cell_type": "markdown",
   "id": "cb4116d3-a3b0-45de-8914-9d0af3733143",
   "metadata": {},
   "source": [
    "| Data Science Tools|\n",
    "| ------------- |\n",
    "| RStudio    | \n",
    "| Apache Spark    | \n",
    "| Jupyter Notebooks | "
   ]
  },
  {
   "cell_type": "markdown",
   "id": "95ec17cf-3c13-40dd-9f86-48c476a26800",
   "metadata": {},
   "source": [
    "### Below are a few examples of evaluating arithmetic expressions in Python"
   ]
  },
  {
   "cell_type": "markdown",
   "id": "86c43dbd-9f6b-4e50-825b-789a25bdb567",
   "metadata": {},
   "source": [
    "This a simple arithmetic expression to mutiply then add integers"
   ]
  },
  {
   "cell_type": "code",
   "execution_count": 3,
   "id": "5be72856-f1f2-444f-b277-d2378242c015",
   "metadata": {},
   "outputs": [
    {
     "data": {
      "text/plain": [
       "17"
      ]
     },
     "execution_count": 3,
     "metadata": {},
     "output_type": "execute_result"
    }
   ],
   "source": [
    "(3*4)+5"
   ]
  },
  {
   "cell_type": "markdown",
   "id": "9bcb8777-08a4-404d-a3e2-ba032bebc72d",
   "metadata": {},
   "source": [
    "This will convert 200 minutes to hours by diving by 60"
   ]
  },
  {
   "cell_type": "code",
   "execution_count": 4,
   "id": "2ebffb67-92d7-4dbb-8e11-419dd1894147",
   "metadata": {},
   "outputs": [
    {
     "data": {
      "text/plain": [
       "3.3333333333333335"
      ]
     },
     "execution_count": 4,
     "metadata": {},
     "output_type": "execute_result"
    }
   ],
   "source": [
    "200/60"
   ]
  },
  {
   "cell_type": "markdown",
   "id": "a822d6ee-703e-467f-93cd-10ccd0184e84",
   "metadata": {
    "tags": []
   },
   "source": [
    "## Author\n",
    "Mateusz Koz"
   ]
  }
 ],
 "metadata": {
  "kernelspec": {
   "display_name": "Python",
   "language": "python",
   "name": "conda-env-python-py"
  },
  "language_info": {
   "codemirror_mode": {
    "name": "ipython",
    "version": 3
   },
   "file_extension": ".py",
   "mimetype": "text/x-python",
   "name": "python",
   "nbconvert_exporter": "python",
   "pygments_lexer": "ipython3",
   "version": "3.7.12"
  }
 },
 "nbformat": 4,
 "nbformat_minor": 5
}
